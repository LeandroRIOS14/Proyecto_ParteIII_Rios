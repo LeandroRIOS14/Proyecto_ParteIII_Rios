{
 "cells": [
  {
   "cell_type": "markdown",
   "id": "0666345a",
   "metadata": {},
   "source": [
    "# Proyecto Parte III - Ríos\n",
    "Estructura del proyecto de Machine Learning para clasificación con el dataset Titanic."
   ]
  },
  {
   "cell_type": "code",
   "execution_count": null,
   "id": "35c3fda2",
   "metadata": {},
   "outputs": [],
   "source": [
    "\n",
    "# 1. IMPORTACIÓN DE LIBRERÍAS Y CARGA DE DATOS\n",
    "import pandas as pd\n",
    "import seaborn as sns\n",
    "import matplotlib.pyplot as plt\n",
    "from sklearn.model_selection import train_test_split\n",
    "from sklearn.preprocessing import LabelEncoder\n",
    "from sklearn.feature_selection import SelectKBest, chi2\n",
    "from sklearn.ensemble import RandomForestClassifier\n",
    "from sklearn.metrics import classification_report, confusion_matrix\n",
    "\n",
    "# Cargar dataset de Titanic\n",
    "df = sns.load_dataset('titanic')\n"
   ]
  },
  {
   "cell_type": "code",
   "execution_count": null,
   "id": "84617ba7",
   "metadata": {},
   "outputs": [],
   "source": [
    "\n",
    "# 2. EXPLORACIÓN Y LIMPIEZA\n",
    "print(df.head())\n",
    "print(df.info())\n",
    "\n",
    "# Eliminar columnas poco útiles\n",
    "df = df.drop(columns=['deck', 'embark_town', 'alive', 'who', 'class'])\n",
    "\n",
    "# Eliminar filas con valores faltantes\n",
    "df.dropna(inplace=True)\n",
    "\n",
    "# Convertir variables categóricas en numéricas\n",
    "label_encoders = {}\n",
    "for column in df.select_dtypes(include='object').columns:\n",
    "    le = LabelEncoder()\n",
    "    df[column] = le.fit_transform(df[column])\n",
    "    label_encoders[column] = le\n"
   ]
  },
  {
   "cell_type": "code",
   "execution_count": null,
   "id": "8290a6a1",
   "metadata": {},
   "outputs": [],
   "source": [
    "\n",
    "# 3. FEATURE SELECTION\n",
    "X = df.drop(columns='survived')\n",
    "y = df['survived']\n",
    "\n",
    "# Usar SelectKBest para elegir las 5 variables más relevantes\n",
    "selector = SelectKBest(score_func=chi2, k=5)\n",
    "X_selected = selector.fit_transform(X, y)\n",
    "\n",
    "# Obtener los nombres de las columnas seleccionadas\n",
    "mask = selector.get_support()\n",
    "selected_features = X.columns[mask]\n",
    "print(\"Features seleccionadas:\", selected_features)\n"
   ]
  },
  {
   "cell_type": "code",
   "execution_count": null,
   "id": "ac577d00",
   "metadata": {},
   "outputs": [],
   "source": [
    "\n",
    "# 4. MODELO DE CLASIFICACIÓN\n",
    "X_train, X_test, y_train, y_test = train_test_split(df[selected_features], y, test_size=0.3, random_state=42)\n",
    "\n",
    "model = RandomForestClassifier(random_state=42)\n",
    "model.fit(X_train, y_train)\n"
   ]
  },
  {
   "cell_type": "code",
   "execution_count": null,
   "id": "88ef26bc",
   "metadata": {},
   "outputs": [],
   "source": [
    "\n",
    "# 5. EVALUACIÓN DEL MODELO\n",
    "y_pred = model.predict(X_test)\n",
    "\n",
    "print(\"Matriz de confusión:\")\n",
    "print(confusion_matrix(y_test, y_pred))\n",
    "\n",
    "print(\"\\nReporte de clasificación:\")\n",
    "print(classification_report(y_test, y_pred))\n"
   ]
  },
  {
   "cell_type": "code",
   "execution_count": null,
   "id": "04473ecb",
   "metadata": {},
   "outputs": [],
   "source": [
    "\n",
    "# 6. CONCLUSIONES\n",
    "print(\"\"\"\n",
    "El modelo Random Forest logró predecir con buena precisión si un pasajero sobrevivió o no, \n",
    "basándose en las 5 variables más importantes del dataset. Las métricas muestran buen balance \n",
    "entre precisión y recall. Se podría mejorar el modelo ajustando hiperparámetros o usando más datos.\n",
    "\"\"\")\n"
   ]
  }
 ],
 "metadata": {},
 "nbformat": 4,
 "nbformat_minor": 5
}
